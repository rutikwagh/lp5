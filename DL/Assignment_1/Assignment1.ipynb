{
 "cells": [
  {
   "cell_type": "code",
   "execution_count": 1,
   "id": "36e90601",
   "metadata": {},
   "outputs": [],
   "source": [
    "import pandas as pd\n",
    "import matplotlib.pyplot as plt"
   ]
  },
  {
   "cell_type": "markdown",
   "id": "09c0d469",
   "metadata": {},
   "source": [
    "### Load Dataset"
   ]
  },
  {
   "cell_type": "code",
   "execution_count": 2,
   "id": "64638d93",
   "metadata": {},
   "outputs": [
    {
     "data": {
      "text/html": [
       "<div>\n",
       "<style scoped>\n",
       "    .dataframe tbody tr th:only-of-type {\n",
       "        vertical-align: middle;\n",
       "    }\n",
       "\n",
       "    .dataframe tbody tr th {\n",
       "        vertical-align: top;\n",
       "    }\n",
       "\n",
       "    .dataframe thead th {\n",
       "        text-align: right;\n",
       "    }\n",
       "</style>\n",
       "<table border=\"1\" class=\"dataframe\">\n",
       "  <thead>\n",
       "    <tr style=\"text-align: right;\">\n",
       "      <th></th>\n",
       "      <th>CRIM</th>\n",
       "      <th>ZN</th>\n",
       "      <th>INDUS</th>\n",
       "      <th>CHAS</th>\n",
       "      <th>NOX</th>\n",
       "      <th>RM</th>\n",
       "      <th>AGE</th>\n",
       "      <th>DIS</th>\n",
       "      <th>RAD</th>\n",
       "      <th>TAX</th>\n",
       "      <th>PTRATIO</th>\n",
       "      <th>B</th>\n",
       "      <th>LSTAT</th>\n",
       "      <th>MEDV</th>\n",
       "      <th>CAT. MEDV</th>\n",
       "      <th>Unnamed: 15</th>\n",
       "      <th>Unnamed: 16</th>\n",
       "    </tr>\n",
       "  </thead>\n",
       "  <tbody>\n",
       "    <tr>\n",
       "      <th>0</th>\n",
       "      <td>0.00632</td>\n",
       "      <td>18.0</td>\n",
       "      <td>2.31</td>\n",
       "      <td>0</td>\n",
       "      <td>0.538</td>\n",
       "      <td>6.575</td>\n",
       "      <td>65.2</td>\n",
       "      <td>4.0900</td>\n",
       "      <td>1</td>\n",
       "      <td>296</td>\n",
       "      <td>15.3</td>\n",
       "      <td>396.90</td>\n",
       "      <td>4.98</td>\n",
       "      <td>24.0</td>\n",
       "      <td>0</td>\n",
       "      <td>NaN</td>\n",
       "      <td>NaN</td>\n",
       "    </tr>\n",
       "    <tr>\n",
       "      <th>1</th>\n",
       "      <td>0.02731</td>\n",
       "      <td>0.0</td>\n",
       "      <td>7.07</td>\n",
       "      <td>0</td>\n",
       "      <td>0.469</td>\n",
       "      <td>6.421</td>\n",
       "      <td>78.9</td>\n",
       "      <td>4.9671</td>\n",
       "      <td>2</td>\n",
       "      <td>242</td>\n",
       "      <td>17.8</td>\n",
       "      <td>396.90</td>\n",
       "      <td>9.14</td>\n",
       "      <td>21.6</td>\n",
       "      <td>0</td>\n",
       "      <td>NaN</td>\n",
       "      <td>NaN</td>\n",
       "    </tr>\n",
       "    <tr>\n",
       "      <th>2</th>\n",
       "      <td>0.02729</td>\n",
       "      <td>0.0</td>\n",
       "      <td>7.07</td>\n",
       "      <td>0</td>\n",
       "      <td>0.469</td>\n",
       "      <td>7.185</td>\n",
       "      <td>61.1</td>\n",
       "      <td>4.9671</td>\n",
       "      <td>2</td>\n",
       "      <td>242</td>\n",
       "      <td>17.8</td>\n",
       "      <td>392.83</td>\n",
       "      <td>4.03</td>\n",
       "      <td>34.7</td>\n",
       "      <td>1</td>\n",
       "      <td>NaN</td>\n",
       "      <td>NaN</td>\n",
       "    </tr>\n",
       "    <tr>\n",
       "      <th>3</th>\n",
       "      <td>0.03237</td>\n",
       "      <td>0.0</td>\n",
       "      <td>2.18</td>\n",
       "      <td>0</td>\n",
       "      <td>0.458</td>\n",
       "      <td>6.998</td>\n",
       "      <td>45.8</td>\n",
       "      <td>6.0622</td>\n",
       "      <td>3</td>\n",
       "      <td>222</td>\n",
       "      <td>18.7</td>\n",
       "      <td>394.63</td>\n",
       "      <td>2.94</td>\n",
       "      <td>33.4</td>\n",
       "      <td>1</td>\n",
       "      <td>NaN</td>\n",
       "      <td>NaN</td>\n",
       "    </tr>\n",
       "    <tr>\n",
       "      <th>4</th>\n",
       "      <td>0.06905</td>\n",
       "      <td>0.0</td>\n",
       "      <td>2.18</td>\n",
       "      <td>0</td>\n",
       "      <td>0.458</td>\n",
       "      <td>7.147</td>\n",
       "      <td>54.2</td>\n",
       "      <td>6.0622</td>\n",
       "      <td>3</td>\n",
       "      <td>222</td>\n",
       "      <td>18.7</td>\n",
       "      <td>396.90</td>\n",
       "      <td>5.33</td>\n",
       "      <td>36.2</td>\n",
       "      <td>1</td>\n",
       "      <td>NaN</td>\n",
       "      <td>NaN</td>\n",
       "    </tr>\n",
       "    <tr>\n",
       "      <th>5</th>\n",
       "      <td>0.02985</td>\n",
       "      <td>0.0</td>\n",
       "      <td>2.18</td>\n",
       "      <td>0</td>\n",
       "      <td>0.458</td>\n",
       "      <td>6.430</td>\n",
       "      <td>58.7</td>\n",
       "      <td>6.0622</td>\n",
       "      <td>3</td>\n",
       "      <td>222</td>\n",
       "      <td>18.7</td>\n",
       "      <td>394.12</td>\n",
       "      <td>5.21</td>\n",
       "      <td>28.7</td>\n",
       "      <td>0</td>\n",
       "      <td>NaN</td>\n",
       "      <td>NaN</td>\n",
       "    </tr>\n",
       "    <tr>\n",
       "      <th>6</th>\n",
       "      <td>0.08829</td>\n",
       "      <td>12.5</td>\n",
       "      <td>7.87</td>\n",
       "      <td>0</td>\n",
       "      <td>0.524</td>\n",
       "      <td>6.012</td>\n",
       "      <td>66.6</td>\n",
       "      <td>5.5605</td>\n",
       "      <td>5</td>\n",
       "      <td>311</td>\n",
       "      <td>15.2</td>\n",
       "      <td>395.60</td>\n",
       "      <td>12.43</td>\n",
       "      <td>22.9</td>\n",
       "      <td>0</td>\n",
       "      <td>NaN</td>\n",
       "      <td>NaN</td>\n",
       "    </tr>\n",
       "    <tr>\n",
       "      <th>7</th>\n",
       "      <td>0.14455</td>\n",
       "      <td>12.5</td>\n",
       "      <td>7.87</td>\n",
       "      <td>0</td>\n",
       "      <td>0.524</td>\n",
       "      <td>6.172</td>\n",
       "      <td>96.1</td>\n",
       "      <td>5.9505</td>\n",
       "      <td>5</td>\n",
       "      <td>311</td>\n",
       "      <td>15.2</td>\n",
       "      <td>396.90</td>\n",
       "      <td>19.15</td>\n",
       "      <td>27.1</td>\n",
       "      <td>0</td>\n",
       "      <td>NaN</td>\n",
       "      <td>NaN</td>\n",
       "    </tr>\n",
       "    <tr>\n",
       "      <th>8</th>\n",
       "      <td>0.21124</td>\n",
       "      <td>12.5</td>\n",
       "      <td>7.87</td>\n",
       "      <td>0</td>\n",
       "      <td>0.524</td>\n",
       "      <td>5.631</td>\n",
       "      <td>100.0</td>\n",
       "      <td>6.0821</td>\n",
       "      <td>5</td>\n",
       "      <td>311</td>\n",
       "      <td>15.2</td>\n",
       "      <td>386.63</td>\n",
       "      <td>29.93</td>\n",
       "      <td>16.5</td>\n",
       "      <td>0</td>\n",
       "      <td>NaN</td>\n",
       "      <td>NaN</td>\n",
       "    </tr>\n",
       "    <tr>\n",
       "      <th>9</th>\n",
       "      <td>0.17004</td>\n",
       "      <td>12.5</td>\n",
       "      <td>7.87</td>\n",
       "      <td>0</td>\n",
       "      <td>0.524</td>\n",
       "      <td>6.004</td>\n",
       "      <td>85.9</td>\n",
       "      <td>6.5921</td>\n",
       "      <td>5</td>\n",
       "      <td>311</td>\n",
       "      <td>15.2</td>\n",
       "      <td>386.71</td>\n",
       "      <td>17.10</td>\n",
       "      <td>18.9</td>\n",
       "      <td>0</td>\n",
       "      <td>NaN</td>\n",
       "      <td>NaN</td>\n",
       "    </tr>\n",
       "  </tbody>\n",
       "</table>\n",
       "</div>"
      ],
      "text/plain": [
       "      CRIM    ZN  INDUS  CHAS    NOX     RM    AGE     DIS  RAD  TAX  PTRATIO  \\\n",
       "0  0.00632  18.0   2.31     0  0.538  6.575   65.2  4.0900    1  296     15.3   \n",
       "1  0.02731   0.0   7.07     0  0.469  6.421   78.9  4.9671    2  242     17.8   \n",
       "2  0.02729   0.0   7.07     0  0.469  7.185   61.1  4.9671    2  242     17.8   \n",
       "3  0.03237   0.0   2.18     0  0.458  6.998   45.8  6.0622    3  222     18.7   \n",
       "4  0.06905   0.0   2.18     0  0.458  7.147   54.2  6.0622    3  222     18.7   \n",
       "5  0.02985   0.0   2.18     0  0.458  6.430   58.7  6.0622    3  222     18.7   \n",
       "6  0.08829  12.5   7.87     0  0.524  6.012   66.6  5.5605    5  311     15.2   \n",
       "7  0.14455  12.5   7.87     0  0.524  6.172   96.1  5.9505    5  311     15.2   \n",
       "8  0.21124  12.5   7.87     0  0.524  5.631  100.0  6.0821    5  311     15.2   \n",
       "9  0.17004  12.5   7.87     0  0.524  6.004   85.9  6.5921    5  311     15.2   \n",
       "\n",
       "        B  LSTAT  MEDV  CAT. MEDV  Unnamed: 15  Unnamed: 16  \n",
       "0  396.90   4.98  24.0          0          NaN          NaN  \n",
       "1  396.90   9.14  21.6          0          NaN          NaN  \n",
       "2  392.83   4.03  34.7          1          NaN          NaN  \n",
       "3  394.63   2.94  33.4          1          NaN          NaN  \n",
       "4  396.90   5.33  36.2          1          NaN          NaN  \n",
       "5  394.12   5.21  28.7          0          NaN          NaN  \n",
       "6  395.60  12.43  22.9          0          NaN          NaN  \n",
       "7  396.90  19.15  27.1          0          NaN          NaN  \n",
       "8  386.63  29.93  16.5          0          NaN          NaN  \n",
       "9  386.71  17.10  18.9          0          NaN          NaN  "
      ]
     },
     "execution_count": 2,
     "metadata": {},
     "output_type": "execute_result"
    }
   ],
   "source": [
    "df = pd.read_csv('Boston.csv')\n",
    "df.head(10)"
   ]
  },
  {
   "cell_type": "code",
   "execution_count": 3,
   "id": "55426a1b",
   "metadata": {},
   "outputs": [],
   "source": [
    "df.drop(columns=['Unnamed: 15','Unnamed: 16'],inplace=True)"
   ]
  },
  {
   "cell_type": "code",
   "execution_count": 4,
   "id": "dade5278",
   "metadata": {},
   "outputs": [],
   "source": [
    "df.drop(columns=['CAT. MEDV'],inplace=True)"
   ]
  },
  {
   "cell_type": "markdown",
   "id": "17d566fe",
   "metadata": {},
   "source": [
    "#### Checking for null values"
   ]
  },
  {
   "cell_type": "code",
   "execution_count": 5,
   "id": "e4792737",
   "metadata": {},
   "outputs": [
    {
     "data": {
      "text/plain": [
       "CRIM       0\n",
       "ZN         0\n",
       "INDUS      0\n",
       "CHAS       0\n",
       "NOX        0\n",
       "RM         0\n",
       "AGE        0\n",
       "DIS        0\n",
       "RAD        0\n",
       "TAX        0\n",
       "PTRATIO    0\n",
       "B          0\n",
       "LSTAT      0\n",
       "MEDV       0\n",
       "dtype: int64"
      ]
     },
     "execution_count": 5,
     "metadata": {},
     "output_type": "execute_result"
    }
   ],
   "source": [
    "df.isnull().sum()"
   ]
  },
  {
   "cell_type": "code",
   "execution_count": 6,
   "id": "036b309e",
   "metadata": {},
   "outputs": [
    {
     "name": "stdout",
     "output_type": "stream",
     "text": [
      "<class 'pandas.core.frame.DataFrame'>\n",
      "RangeIndex: 506 entries, 0 to 505\n",
      "Data columns (total 14 columns):\n",
      " #   Column   Non-Null Count  Dtype  \n",
      "---  ------   --------------  -----  \n",
      " 0   CRIM     506 non-null    float64\n",
      " 1   ZN       506 non-null    float64\n",
      " 2   INDUS    506 non-null    float64\n",
      " 3   CHAS     506 non-null    int64  \n",
      " 4   NOX      506 non-null    float64\n",
      " 5   RM       506 non-null    float64\n",
      " 6   AGE      506 non-null    float64\n",
      " 7   DIS      506 non-null    float64\n",
      " 8   RAD      506 non-null    int64  \n",
      " 9   TAX      506 non-null    int64  \n",
      " 10  PTRATIO  506 non-null    float64\n",
      " 11  B        506 non-null    float64\n",
      " 12  LSTAT    506 non-null    float64\n",
      " 13  MEDV     506 non-null    float64\n",
      "dtypes: float64(11), int64(3)\n",
      "memory usage: 55.5 KB\n"
     ]
    }
   ],
   "source": [
    "df.info()"
   ]
  },
  {
   "cell_type": "code",
   "execution_count": 7,
   "id": "851ae670",
   "metadata": {},
   "outputs": [
    {
     "data": {
      "text/html": [
       "<div>\n",
       "<style scoped>\n",
       "    .dataframe tbody tr th:only-of-type {\n",
       "        vertical-align: middle;\n",
       "    }\n",
       "\n",
       "    .dataframe tbody tr th {\n",
       "        vertical-align: top;\n",
       "    }\n",
       "\n",
       "    .dataframe thead th {\n",
       "        text-align: right;\n",
       "    }\n",
       "</style>\n",
       "<table border=\"1\" class=\"dataframe\">\n",
       "  <thead>\n",
       "    <tr style=\"text-align: right;\">\n",
       "      <th></th>\n",
       "      <th>CRIM</th>\n",
       "      <th>ZN</th>\n",
       "      <th>INDUS</th>\n",
       "      <th>CHAS</th>\n",
       "      <th>NOX</th>\n",
       "      <th>RM</th>\n",
       "      <th>AGE</th>\n",
       "      <th>DIS</th>\n",
       "      <th>RAD</th>\n",
       "      <th>TAX</th>\n",
       "      <th>PTRATIO</th>\n",
       "      <th>B</th>\n",
       "      <th>LSTAT</th>\n",
       "      <th>MEDV</th>\n",
       "    </tr>\n",
       "  </thead>\n",
       "  <tbody>\n",
       "    <tr>\n",
       "      <th>count</th>\n",
       "      <td>506.000000</td>\n",
       "      <td>506.000000</td>\n",
       "      <td>506.000000</td>\n",
       "      <td>506.000000</td>\n",
       "      <td>506.000000</td>\n",
       "      <td>506.000000</td>\n",
       "      <td>506.000000</td>\n",
       "      <td>506.000000</td>\n",
       "      <td>506.000000</td>\n",
       "      <td>506.000000</td>\n",
       "      <td>506.000000</td>\n",
       "      <td>506.000000</td>\n",
       "      <td>506.000000</td>\n",
       "      <td>506.000000</td>\n",
       "    </tr>\n",
       "    <tr>\n",
       "      <th>mean</th>\n",
       "      <td>3.613524</td>\n",
       "      <td>11.363636</td>\n",
       "      <td>11.136779</td>\n",
       "      <td>0.069170</td>\n",
       "      <td>0.554695</td>\n",
       "      <td>6.284634</td>\n",
       "      <td>68.574901</td>\n",
       "      <td>3.795043</td>\n",
       "      <td>9.549407</td>\n",
       "      <td>408.237154</td>\n",
       "      <td>18.455534</td>\n",
       "      <td>356.674032</td>\n",
       "      <td>12.653063</td>\n",
       "      <td>22.532806</td>\n",
       "    </tr>\n",
       "    <tr>\n",
       "      <th>std</th>\n",
       "      <td>8.601545</td>\n",
       "      <td>23.322453</td>\n",
       "      <td>6.860353</td>\n",
       "      <td>0.253994</td>\n",
       "      <td>0.115878</td>\n",
       "      <td>0.702617</td>\n",
       "      <td>28.148861</td>\n",
       "      <td>2.105710</td>\n",
       "      <td>8.707259</td>\n",
       "      <td>168.537116</td>\n",
       "      <td>2.164946</td>\n",
       "      <td>91.294864</td>\n",
       "      <td>7.141062</td>\n",
       "      <td>9.197104</td>\n",
       "    </tr>\n",
       "    <tr>\n",
       "      <th>min</th>\n",
       "      <td>0.006320</td>\n",
       "      <td>0.000000</td>\n",
       "      <td>0.460000</td>\n",
       "      <td>0.000000</td>\n",
       "      <td>0.385000</td>\n",
       "      <td>3.561000</td>\n",
       "      <td>2.900000</td>\n",
       "      <td>1.129600</td>\n",
       "      <td>1.000000</td>\n",
       "      <td>187.000000</td>\n",
       "      <td>12.600000</td>\n",
       "      <td>0.320000</td>\n",
       "      <td>1.730000</td>\n",
       "      <td>5.000000</td>\n",
       "    </tr>\n",
       "    <tr>\n",
       "      <th>25%</th>\n",
       "      <td>0.082045</td>\n",
       "      <td>0.000000</td>\n",
       "      <td>5.190000</td>\n",
       "      <td>0.000000</td>\n",
       "      <td>0.449000</td>\n",
       "      <td>5.885500</td>\n",
       "      <td>45.025000</td>\n",
       "      <td>2.100175</td>\n",
       "      <td>4.000000</td>\n",
       "      <td>279.000000</td>\n",
       "      <td>17.400000</td>\n",
       "      <td>375.377500</td>\n",
       "      <td>6.950000</td>\n",
       "      <td>17.025000</td>\n",
       "    </tr>\n",
       "    <tr>\n",
       "      <th>50%</th>\n",
       "      <td>0.256510</td>\n",
       "      <td>0.000000</td>\n",
       "      <td>9.690000</td>\n",
       "      <td>0.000000</td>\n",
       "      <td>0.538000</td>\n",
       "      <td>6.208500</td>\n",
       "      <td>77.500000</td>\n",
       "      <td>3.207450</td>\n",
       "      <td>5.000000</td>\n",
       "      <td>330.000000</td>\n",
       "      <td>19.050000</td>\n",
       "      <td>391.440000</td>\n",
       "      <td>11.360000</td>\n",
       "      <td>21.200000</td>\n",
       "    </tr>\n",
       "    <tr>\n",
       "      <th>75%</th>\n",
       "      <td>3.677083</td>\n",
       "      <td>12.500000</td>\n",
       "      <td>18.100000</td>\n",
       "      <td>0.000000</td>\n",
       "      <td>0.624000</td>\n",
       "      <td>6.623500</td>\n",
       "      <td>94.075000</td>\n",
       "      <td>5.188425</td>\n",
       "      <td>24.000000</td>\n",
       "      <td>666.000000</td>\n",
       "      <td>20.200000</td>\n",
       "      <td>396.225000</td>\n",
       "      <td>16.955000</td>\n",
       "      <td>25.000000</td>\n",
       "    </tr>\n",
       "    <tr>\n",
       "      <th>max</th>\n",
       "      <td>88.976200</td>\n",
       "      <td>100.000000</td>\n",
       "      <td>27.740000</td>\n",
       "      <td>1.000000</td>\n",
       "      <td>0.871000</td>\n",
       "      <td>8.780000</td>\n",
       "      <td>100.000000</td>\n",
       "      <td>12.126500</td>\n",
       "      <td>24.000000</td>\n",
       "      <td>711.000000</td>\n",
       "      <td>22.000000</td>\n",
       "      <td>396.900000</td>\n",
       "      <td>37.970000</td>\n",
       "      <td>50.000000</td>\n",
       "    </tr>\n",
       "  </tbody>\n",
       "</table>\n",
       "</div>"
      ],
      "text/plain": [
       "             CRIM          ZN       INDUS        CHAS         NOX          RM  \\\n",
       "count  506.000000  506.000000  506.000000  506.000000  506.000000  506.000000   \n",
       "mean     3.613524   11.363636   11.136779    0.069170    0.554695    6.284634   \n",
       "std      8.601545   23.322453    6.860353    0.253994    0.115878    0.702617   \n",
       "min      0.006320    0.000000    0.460000    0.000000    0.385000    3.561000   \n",
       "25%      0.082045    0.000000    5.190000    0.000000    0.449000    5.885500   \n",
       "50%      0.256510    0.000000    9.690000    0.000000    0.538000    6.208500   \n",
       "75%      3.677083   12.500000   18.100000    0.000000    0.624000    6.623500   \n",
       "max     88.976200  100.000000   27.740000    1.000000    0.871000    8.780000   \n",
       "\n",
       "              AGE         DIS         RAD         TAX     PTRATIO           B  \\\n",
       "count  506.000000  506.000000  506.000000  506.000000  506.000000  506.000000   \n",
       "mean    68.574901    3.795043    9.549407  408.237154   18.455534  356.674032   \n",
       "std     28.148861    2.105710    8.707259  168.537116    2.164946   91.294864   \n",
       "min      2.900000    1.129600    1.000000  187.000000   12.600000    0.320000   \n",
       "25%     45.025000    2.100175    4.000000  279.000000   17.400000  375.377500   \n",
       "50%     77.500000    3.207450    5.000000  330.000000   19.050000  391.440000   \n",
       "75%     94.075000    5.188425   24.000000  666.000000   20.200000  396.225000   \n",
       "max    100.000000   12.126500   24.000000  711.000000   22.000000  396.900000   \n",
       "\n",
       "            LSTAT        MEDV  \n",
       "count  506.000000  506.000000  \n",
       "mean    12.653063   22.532806  \n",
       "std      7.141062    9.197104  \n",
       "min      1.730000    5.000000  \n",
       "25%      6.950000   17.025000  \n",
       "50%     11.360000   21.200000  \n",
       "75%     16.955000   25.000000  \n",
       "max     37.970000   50.000000  "
      ]
     },
     "execution_count": 7,
     "metadata": {},
     "output_type": "execute_result"
    }
   ],
   "source": [
    "df.describe()"
   ]
  },
  {
   "cell_type": "markdown",
   "id": "44bc6735",
   "metadata": {},
   "source": [
    "#### Checking correlation with target variable MEDV"
   ]
  },
  {
   "cell_type": "code",
   "execution_count": 8,
   "id": "64ef4b15",
   "metadata": {},
   "outputs": [
    {
     "data": {
      "text/plain": [
       "LSTAT     -0.737663\n",
       "PTRATIO   -0.507787\n",
       "INDUS     -0.483725\n",
       "TAX       -0.468536\n",
       "NOX       -0.427321\n",
       "CRIM      -0.388305\n",
       "RAD       -0.381626\n",
       "AGE       -0.376955\n",
       "CHAS       0.175260\n",
       "DIS        0.249929\n",
       "B          0.333461\n",
       "ZN         0.360445\n",
       "RM         0.695360\n",
       "MEDV       1.000000\n",
       "Name: MEDV, dtype: float64"
      ]
     },
     "execution_count": 8,
     "metadata": {},
     "output_type": "execute_result"
    }
   ],
   "source": [
    "df.corr()['MEDV'].sort_values()"
   ]
  },
  {
   "cell_type": "code",
   "execution_count": 9,
   "id": "7168e688",
   "metadata": {},
   "outputs": [
    {
     "data": {
      "text/plain": [
       "((506, 3), (506,))"
      ]
     },
     "execution_count": 9,
     "metadata": {},
     "output_type": "execute_result"
    }
   ],
   "source": [
    "X = df.loc[:,['LSTAT','PTRATIO','RM']]\n",
    "Y = df.loc[:,\"MEDV\"]\n",
    "X.shape,Y.shape"
   ]
  },
  {
   "cell_type": "markdown",
   "id": "08648c29",
   "metadata": {},
   "source": [
    "### Preparing training and testing data set"
   ]
  },
  {
   "cell_type": "code",
   "execution_count": 10,
   "id": "cecea370",
   "metadata": {},
   "outputs": [],
   "source": [
    "from sklearn.model_selection import train_test_split\n",
    "x_train,x_test,y_train,y_test = train_test_split(X,Y,test_size=0.25,random_state=10)"
   ]
  },
  {
   "cell_type": "markdown",
   "id": "7eabb9f2",
   "metadata": {},
   "source": [
    "### Normalizing training and testing dataset"
   ]
  },
  {
   "cell_type": "code",
   "execution_count": 11,
   "id": "926fe0ce",
   "metadata": {},
   "outputs": [],
   "source": [
    "from sklearn.preprocessing import StandardScaler"
   ]
  },
  {
   "cell_type": "code",
   "execution_count": 12,
   "id": "1e49c4a2",
   "metadata": {},
   "outputs": [],
   "source": [
    "scaler = StandardScaler()"
   ]
  },
  {
   "cell_type": "code",
   "execution_count": 13,
   "id": "b99b26de",
   "metadata": {},
   "outputs": [
    {
     "data": {
      "text/html": [
       "<style>#sk-container-id-1 {color: black;background-color: white;}#sk-container-id-1 pre{padding: 0;}#sk-container-id-1 div.sk-toggleable {background-color: white;}#sk-container-id-1 label.sk-toggleable__label {cursor: pointer;display: block;width: 100%;margin-bottom: 0;padding: 0.3em;box-sizing: border-box;text-align: center;}#sk-container-id-1 label.sk-toggleable__label-arrow:before {content: \"▸\";float: left;margin-right: 0.25em;color: #696969;}#sk-container-id-1 label.sk-toggleable__label-arrow:hover:before {color: black;}#sk-container-id-1 div.sk-estimator:hover label.sk-toggleable__label-arrow:before {color: black;}#sk-container-id-1 div.sk-toggleable__content {max-height: 0;max-width: 0;overflow: hidden;text-align: left;background-color: #f0f8ff;}#sk-container-id-1 div.sk-toggleable__content pre {margin: 0.2em;color: black;border-radius: 0.25em;background-color: #f0f8ff;}#sk-container-id-1 input.sk-toggleable__control:checked~div.sk-toggleable__content {max-height: 200px;max-width: 100%;overflow: auto;}#sk-container-id-1 input.sk-toggleable__control:checked~label.sk-toggleable__label-arrow:before {content: \"▾\";}#sk-container-id-1 div.sk-estimator input.sk-toggleable__control:checked~label.sk-toggleable__label {background-color: #d4ebff;}#sk-container-id-1 div.sk-label input.sk-toggleable__control:checked~label.sk-toggleable__label {background-color: #d4ebff;}#sk-container-id-1 input.sk-hidden--visually {border: 0;clip: rect(1px 1px 1px 1px);clip: rect(1px, 1px, 1px, 1px);height: 1px;margin: -1px;overflow: hidden;padding: 0;position: absolute;width: 1px;}#sk-container-id-1 div.sk-estimator {font-family: monospace;background-color: #f0f8ff;border: 1px dotted black;border-radius: 0.25em;box-sizing: border-box;margin-bottom: 0.5em;}#sk-container-id-1 div.sk-estimator:hover {background-color: #d4ebff;}#sk-container-id-1 div.sk-parallel-item::after {content: \"\";width: 100%;border-bottom: 1px solid gray;flex-grow: 1;}#sk-container-id-1 div.sk-label:hover label.sk-toggleable__label {background-color: #d4ebff;}#sk-container-id-1 div.sk-serial::before {content: \"\";position: absolute;border-left: 1px solid gray;box-sizing: border-box;top: 0;bottom: 0;left: 50%;z-index: 0;}#sk-container-id-1 div.sk-serial {display: flex;flex-direction: column;align-items: center;background-color: white;padding-right: 0.2em;padding-left: 0.2em;position: relative;}#sk-container-id-1 div.sk-item {position: relative;z-index: 1;}#sk-container-id-1 div.sk-parallel {display: flex;align-items: stretch;justify-content: center;background-color: white;position: relative;}#sk-container-id-1 div.sk-item::before, #sk-container-id-1 div.sk-parallel-item::before {content: \"\";position: absolute;border-left: 1px solid gray;box-sizing: border-box;top: 0;bottom: 0;left: 50%;z-index: -1;}#sk-container-id-1 div.sk-parallel-item {display: flex;flex-direction: column;z-index: 1;position: relative;background-color: white;}#sk-container-id-1 div.sk-parallel-item:first-child::after {align-self: flex-end;width: 50%;}#sk-container-id-1 div.sk-parallel-item:last-child::after {align-self: flex-start;width: 50%;}#sk-container-id-1 div.sk-parallel-item:only-child::after {width: 0;}#sk-container-id-1 div.sk-dashed-wrapped {border: 1px dashed gray;margin: 0 0.4em 0.5em 0.4em;box-sizing: border-box;padding-bottom: 0.4em;background-color: white;}#sk-container-id-1 div.sk-label label {font-family: monospace;font-weight: bold;display: inline-block;line-height: 1.2em;}#sk-container-id-1 div.sk-label-container {text-align: center;}#sk-container-id-1 div.sk-container {/* jupyter's `normalize.less` sets `[hidden] { display: none; }` but bootstrap.min.css set `[hidden] { display: none !important; }` so we also need the `!important` here to be able to override the default hidden behavior on the sphinx rendered scikit-learn.org. See: https://github.com/scikit-learn/scikit-learn/issues/21755 */display: inline-block !important;position: relative;}#sk-container-id-1 div.sk-text-repr-fallback {display: none;}</style><div id=\"sk-container-id-1\" class=\"sk-top-container\"><div class=\"sk-text-repr-fallback\"><pre>StandardScaler()</pre><b>In a Jupyter environment, please rerun this cell to show the HTML representation or trust the notebook. <br />On GitHub, the HTML representation is unable to render, please try loading this page with nbviewer.org.</b></div><div class=\"sk-container\" hidden><div class=\"sk-item\"><div class=\"sk-estimator sk-toggleable\"><input class=\"sk-toggleable__control sk-hidden--visually\" id=\"sk-estimator-id-1\" type=\"checkbox\" checked><label for=\"sk-estimator-id-1\" class=\"sk-toggleable__label sk-toggleable__label-arrow\">StandardScaler</label><div class=\"sk-toggleable__content\"><pre>StandardScaler()</pre></div></div></div></div></div>"
      ],
      "text/plain": [
       "StandardScaler()"
      ]
     },
     "execution_count": 13,
     "metadata": {},
     "output_type": "execute_result"
    }
   ],
   "source": [
    "scaler.fit(x_train)"
   ]
  },
  {
   "cell_type": "code",
   "execution_count": 14,
   "id": "eece8526",
   "metadata": {},
   "outputs": [],
   "source": [
    "x_train = scaler.transform(x_train)\n",
    "x_test = scaler.transform(x_test)"
   ]
  },
  {
   "cell_type": "markdown",
   "id": "a1ed18cc",
   "metadata": {},
   "source": [
    "### Preparing model"
   ]
  },
  {
   "cell_type": "code",
   "execution_count": 15,
   "id": "1243c6f8",
   "metadata": {},
   "outputs": [],
   "source": [
    "from keras.models import Sequential\n",
    "from keras.layers import Dense"
   ]
  },
  {
   "cell_type": "code",
   "execution_count": 16,
   "id": "e7dad931",
   "metadata": {},
   "outputs": [],
   "source": [
    "model = Sequential()"
   ]
  },
  {
   "cell_type": "code",
   "execution_count": 17,
   "id": "0baf27a9",
   "metadata": {
    "scrolled": true
   },
   "outputs": [
    {
     "name": "stdout",
     "output_type": "stream",
     "text": [
      "Model: \"sequential\"\n",
      "_________________________________________________________________\n",
      " Layer (type)                Output Shape              Param #   \n",
      "=================================================================\n",
      " input (Dense)               (None, 128)               512       \n",
      "                                                                 \n",
      " layer_1 (Dense)             (None, 64)                8256      \n",
      "                                                                 \n",
      " output (Dense)              (None, 1)                 65        \n",
      "                                                                 \n",
      "=================================================================\n",
      "Total params: 8,833\n",
      "Trainable params: 8,833\n",
      "Non-trainable params: 0\n",
      "_________________________________________________________________\n"
     ]
    }
   ],
   "source": [
    "model.add(Dense(128,input_shape=(3,),activation='relu',name='input'))\n",
    "model.add(Dense(64,activation='relu',name='layer_1'))\n",
    "model.add(Dense(1,activation='linear',name='output'))\n",
    "model.compile(optimizer='adam', loss='mse', metrics=['mae'])\n",
    "model.summary()"
   ]
  },
  {
   "cell_type": "code",
   "execution_count": 18,
   "id": "4b51358b",
   "metadata": {
    "scrolled": false
   },
   "outputs": [
    {
     "name": "stdout",
     "output_type": "stream",
     "text": [
      "Epoch 1/100\n",
      "12/12 [==============================] - 1s 30ms/step - loss: 532.3045 - mae: 21.3279 - val_loss: 696.9014 - val_mae: 23.5907\n",
      "Epoch 2/100\n",
      "12/12 [==============================] - 0s 7ms/step - loss: 496.5215 - mae: 20.4543 - val_loss: 645.9908 - val_mae: 22.4328\n",
      "Epoch 3/100\n",
      "12/12 [==============================] - 0s 6ms/step - loss: 446.0076 - mae: 19.1508 - val_loss: 572.7936 - val_mae: 20.6930\n",
      "Epoch 4/100\n",
      "12/12 [==============================] - 0s 6ms/step - loss: 374.6801 - mae: 17.2488 - val_loss: 476.4863 - val_mae: 18.5527\n",
      "Epoch 5/100\n",
      "12/12 [==============================] - 0s 6ms/step - loss: 280.7460 - mae: 14.7593 - val_loss: 365.7369 - val_mae: 15.8130\n",
      "Epoch 6/100\n",
      "12/12 [==============================] - 0s 11ms/step - loss: 183.2531 - mae: 11.7660 - val_loss: 250.9771 - val_mae: 12.3836\n",
      "Epoch 7/100\n",
      "12/12 [==============================] - 0s 6ms/step - loss: 93.8217 - mae: 8.3858 - val_loss: 160.8568 - val_mae: 9.2825\n",
      "Epoch 8/100\n",
      "12/12 [==============================] - 0s 6ms/step - loss: 46.7304 - mae: 5.5712 - val_loss: 111.7484 - val_mae: 7.4486\n",
      "Epoch 9/100\n",
      "12/12 [==============================] - 0s 8ms/step - loss: 33.7900 - mae: 4.4172 - val_loss: 94.9950 - val_mae: 6.7188\n",
      "Epoch 10/100\n",
      "12/12 [==============================] - 0s 7ms/step - loss: 30.4987 - mae: 4.1506 - val_loss: 91.6546 - val_mae: 6.6314\n",
      "Epoch 11/100\n",
      "12/12 [==============================] - 0s 6ms/step - loss: 26.9003 - mae: 3.8728 - val_loss: 94.2188 - val_mae: 6.7600\n",
      "Epoch 12/100\n",
      "12/12 [==============================] - 0s 7ms/step - loss: 25.4452 - mae: 3.7659 - val_loss: 91.6155 - val_mae: 6.6525\n",
      "Epoch 13/100\n",
      "12/12 [==============================] - 0s 7ms/step - loss: 24.3758 - mae: 3.6770 - val_loss: 87.4795 - val_mae: 6.5313\n",
      "Epoch 14/100\n",
      "12/12 [==============================] - 0s 6ms/step - loss: 23.3389 - mae: 3.5905 - val_loss: 87.4789 - val_mae: 6.5237\n",
      "Epoch 15/100\n",
      "12/12 [==============================] - 0s 6ms/step - loss: 22.6706 - mae: 3.5316 - val_loss: 85.2222 - val_mae: 6.4229\n",
      "Epoch 16/100\n",
      "12/12 [==============================] - 0s 10ms/step - loss: 21.9513 - mae: 3.4647 - val_loss: 84.7659 - val_mae: 6.3644\n",
      "Epoch 17/100\n",
      "12/12 [==============================] - 0s 8ms/step - loss: 21.2296 - mae: 3.4043 - val_loss: 83.5979 - val_mae: 6.3097\n",
      "Epoch 18/100\n",
      "12/12 [==============================] - 0s 8ms/step - loss: 20.8258 - mae: 3.3669 - val_loss: 81.7318 - val_mae: 6.2074\n",
      "Epoch 19/100\n",
      "12/12 [==============================] - 0s 8ms/step - loss: 20.2115 - mae: 3.3103 - val_loss: 82.8592 - val_mae: 6.1798\n",
      "Epoch 20/100\n",
      "12/12 [==============================] - 0s 10ms/step - loss: 19.7356 - mae: 3.2741 - val_loss: 83.5411 - val_mae: 6.1583\n",
      "Epoch 21/100\n",
      "12/12 [==============================] - 0s 7ms/step - loss: 19.2347 - mae: 3.2264 - val_loss: 82.4308 - val_mae: 6.1128\n",
      "Epoch 22/100\n",
      "12/12 [==============================] - 0s 7ms/step - loss: 18.7651 - mae: 3.1777 - val_loss: 82.5675 - val_mae: 6.0656\n",
      "Epoch 23/100\n",
      "12/12 [==============================] - 0s 8ms/step - loss: 18.4811 - mae: 3.1377 - val_loss: 82.6633 - val_mae: 6.0142\n",
      "Epoch 24/100\n",
      "12/12 [==============================] - 0s 10ms/step - loss: 18.0009 - mae: 3.0995 - val_loss: 80.8122 - val_mae: 5.9135\n",
      "Epoch 25/100\n",
      "12/12 [==============================] - 0s 7ms/step - loss: 17.7140 - mae: 3.0696 - val_loss: 82.1721 - val_mae: 5.9385\n",
      "Epoch 26/100\n",
      "12/12 [==============================] - 0s 7ms/step - loss: 17.3319 - mae: 3.0395 - val_loss: 81.0072 - val_mae: 5.8922\n",
      "Epoch 27/100\n",
      "12/12 [==============================] - 0s 6ms/step - loss: 16.8855 - mae: 3.0184 - val_loss: 83.6173 - val_mae: 5.9576\n",
      "Epoch 28/100\n",
      "12/12 [==============================] - 0s 7ms/step - loss: 16.7884 - mae: 3.0110 - val_loss: 83.4334 - val_mae: 5.9421\n",
      "Epoch 29/100\n",
      "12/12 [==============================] - 0s 10ms/step - loss: 16.5049 - mae: 2.9917 - val_loss: 80.7528 - val_mae: 5.7776\n",
      "Epoch 30/100\n",
      "12/12 [==============================] - 0s 7ms/step - loss: 16.2102 - mae: 2.9724 - val_loss: 80.9416 - val_mae: 5.7548\n",
      "Epoch 31/100\n",
      "12/12 [==============================] - 0s 10ms/step - loss: 16.0291 - mae: 2.9351 - val_loss: 80.6568 - val_mae: 5.7169\n",
      "Epoch 32/100\n",
      "12/12 [==============================] - 0s 8ms/step - loss: 15.7289 - mae: 2.9217 - val_loss: 83.6636 - val_mae: 5.8295\n",
      "Epoch 33/100\n",
      "12/12 [==============================] - 0s 7ms/step - loss: 15.6204 - mae: 2.9065 - val_loss: 81.9172 - val_mae: 5.7230\n",
      "Epoch 34/100\n",
      "12/12 [==============================] - 0s 6ms/step - loss: 15.4386 - mae: 2.9027 - val_loss: 80.0060 - val_mae: 5.6350\n",
      "Epoch 35/100\n",
      "12/12 [==============================] - 0s 6ms/step - loss: 15.2272 - mae: 2.8671 - val_loss: 83.2026 - val_mae: 5.7678\n",
      "Epoch 36/100\n",
      "12/12 [==============================] - 0s 7ms/step - loss: 15.1837 - mae: 2.8764 - val_loss: 79.0110 - val_mae: 5.6350\n",
      "Epoch 37/100\n",
      "12/12 [==============================] - 0s 7ms/step - loss: 15.0498 - mae: 2.8741 - val_loss: 80.4633 - val_mae: 5.6656\n",
      "Epoch 38/100\n",
      "12/12 [==============================] - 0s 7ms/step - loss: 14.8759 - mae: 2.8422 - val_loss: 78.7422 - val_mae: 5.5661\n",
      "Epoch 39/100\n",
      "12/12 [==============================] - 0s 7ms/step - loss: 14.7634 - mae: 2.8340 - val_loss: 78.4751 - val_mae: 5.5112\n",
      "Epoch 40/100\n",
      "12/12 [==============================] - 0s 8ms/step - loss: 14.5623 - mae: 2.7946 - val_loss: 81.0153 - val_mae: 5.5711\n",
      "Epoch 41/100\n",
      "12/12 [==============================] - 0s 6ms/step - loss: 14.3934 - mae: 2.7741 - val_loss: 80.1441 - val_mae: 5.5256\n",
      "Epoch 42/100\n",
      "12/12 [==============================] - 0s 8ms/step - loss: 14.3396 - mae: 2.7800 - val_loss: 80.0174 - val_mae: 5.5107\n",
      "Epoch 43/100\n",
      "12/12 [==============================] - 0s 11ms/step - loss: 14.2510 - mae: 2.7779 - val_loss: 79.8193 - val_mae: 5.4897\n",
      "Epoch 44/100\n",
      "12/12 [==============================] - 0s 6ms/step - loss: 14.1011 - mae: 2.7450 - val_loss: 80.3301 - val_mae: 5.5092\n",
      "Epoch 45/100\n",
      "12/12 [==============================] - 0s 7ms/step - loss: 14.0582 - mae: 2.7310 - val_loss: 81.9953 - val_mae: 5.5494\n",
      "Epoch 46/100\n",
      "12/12 [==============================] - 0s 7ms/step - loss: 14.0014 - mae: 2.7216 - val_loss: 78.3761 - val_mae: 5.4318\n",
      "Epoch 47/100\n",
      "12/12 [==============================] - 0s 8ms/step - loss: 13.9495 - mae: 2.7125 - val_loss: 82.2727 - val_mae: 5.5135\n",
      "Epoch 48/100\n",
      "12/12 [==============================] - 0s 7ms/step - loss: 13.8092 - mae: 2.6877 - val_loss: 81.4372 - val_mae: 5.4512\n",
      "Epoch 49/100\n",
      "12/12 [==============================] - 0s 7ms/step - loss: 13.6785 - mae: 2.6826 - val_loss: 79.1993 - val_mae: 5.3941\n",
      "Epoch 50/100\n",
      "12/12 [==============================] - 0s 8ms/step - loss: 13.6258 - mae: 2.6776 - val_loss: 81.0877 - val_mae: 5.4505\n",
      "Epoch 51/100\n",
      "12/12 [==============================] - 0s 8ms/step - loss: 13.5061 - mae: 2.6802 - val_loss: 82.9207 - val_mae: 5.5345\n",
      "Epoch 52/100\n",
      "12/12 [==============================] - 0s 6ms/step - loss: 13.5588 - mae: 2.7204 - val_loss: 79.3076 - val_mae: 5.4543\n",
      "Epoch 53/100\n",
      "12/12 [==============================] - 0s 7ms/step - loss: 13.4818 - mae: 2.7067 - val_loss: 79.8533 - val_mae: 5.4708\n",
      "Epoch 54/100\n",
      "12/12 [==============================] - 0s 7ms/step - loss: 13.3764 - mae: 2.6575 - val_loss: 82.5207 - val_mae: 5.4814\n",
      "Epoch 55/100\n",
      "12/12 [==============================] - 0s 7ms/step - loss: 13.3457 - mae: 2.6602 - val_loss: 83.0425 - val_mae: 5.5071\n",
      "Epoch 56/100\n",
      "12/12 [==============================] - 0s 8ms/step - loss: 13.2483 - mae: 2.6716 - val_loss: 81.1894 - val_mae: 5.4625\n",
      "Epoch 57/100\n",
      "12/12 [==============================] - 0s 8ms/step - loss: 13.3684 - mae: 2.6701 - val_loss: 79.0352 - val_mae: 5.3653\n",
      "Epoch 58/100\n",
      "12/12 [==============================] - 0s 7ms/step - loss: 12.9965 - mae: 2.6048 - val_loss: 81.4315 - val_mae: 5.3975\n",
      "Epoch 59/100\n",
      "12/12 [==============================] - 0s 7ms/step - loss: 13.1289 - mae: 2.6163 - val_loss: 83.2699 - val_mae: 5.4583\n",
      "Epoch 60/100\n",
      "12/12 [==============================] - 0s 6ms/step - loss: 12.8596 - mae: 2.6043 - val_loss: 78.9045 - val_mae: 5.3513\n",
      "Epoch 61/100\n",
      "12/12 [==============================] - 0s 6ms/step - loss: 12.8145 - mae: 2.6012 - val_loss: 81.0725 - val_mae: 5.4017\n"
     ]
    },
    {
     "name": "stdout",
     "output_type": "stream",
     "text": [
      "Epoch 62/100\n",
      "12/12 [==============================] - 0s 7ms/step - loss: 12.7233 - mae: 2.5772 - val_loss: 80.5113 - val_mae: 5.3493\n",
      "Epoch 63/100\n",
      "12/12 [==============================] - 0s 8ms/step - loss: 12.6482 - mae: 2.5731 - val_loss: 80.3203 - val_mae: 5.3387\n",
      "Epoch 64/100\n",
      "12/12 [==============================] - 0s 7ms/step - loss: 12.5772 - mae: 2.5663 - val_loss: 80.2855 - val_mae: 5.3386\n",
      "Epoch 65/100\n",
      "12/12 [==============================] - 0s 7ms/step - loss: 12.4828 - mae: 2.5630 - val_loss: 82.1438 - val_mae: 5.3678\n",
      "Epoch 66/100\n",
      "12/12 [==============================] - 0s 7ms/step - loss: 12.4720 - mae: 2.5682 - val_loss: 79.8869 - val_mae: 5.3004\n",
      "Epoch 67/100\n",
      "12/12 [==============================] - 0s 8ms/step - loss: 12.3876 - mae: 2.5342 - val_loss: 81.0386 - val_mae: 5.3138\n",
      "Epoch 68/100\n",
      "12/12 [==============================] - 0s 7ms/step - loss: 12.3097 - mae: 2.5246 - val_loss: 81.5395 - val_mae: 5.3141\n",
      "Epoch 69/100\n",
      "12/12 [==============================] - 0s 7ms/step - loss: 12.3040 - mae: 2.5348 - val_loss: 79.5564 - val_mae: 5.2701\n",
      "Epoch 70/100\n",
      "12/12 [==============================] - 0s 7ms/step - loss: 12.1075 - mae: 2.5076 - val_loss: 81.4101 - val_mae: 5.2870\n",
      "Epoch 71/100\n",
      "12/12 [==============================] - 0s 8ms/step - loss: 12.0712 - mae: 2.5113 - val_loss: 81.1018 - val_mae: 5.2661\n",
      "Epoch 72/100\n",
      "12/12 [==============================] - 0s 6ms/step - loss: 11.9551 - mae: 2.4904 - val_loss: 80.2106 - val_mae: 5.2416\n",
      "Epoch 73/100\n",
      "12/12 [==============================] - 0s 7ms/step - loss: 11.8486 - mae: 2.4906 - val_loss: 80.4490 - val_mae: 5.2310\n",
      "Epoch 74/100\n",
      "12/12 [==============================] - 0s 8ms/step - loss: 11.7759 - mae: 2.4886 - val_loss: 80.0594 - val_mae: 5.1982\n",
      "Epoch 75/100\n",
      "12/12 [==============================] - 0s 6ms/step - loss: 11.8159 - mae: 2.4676 - val_loss: 79.9050 - val_mae: 5.1951\n",
      "Epoch 76/100\n",
      "12/12 [==============================] - 0s 6ms/step - loss: 11.6178 - mae: 2.4617 - val_loss: 80.3598 - val_mae: 5.1676\n",
      "Epoch 77/100\n",
      "12/12 [==============================] - 0s 7ms/step - loss: 11.5770 - mae: 2.4601 - val_loss: 80.7940 - val_mae: 5.1576\n",
      "Epoch 78/100\n",
      "12/12 [==============================] - 0s 7ms/step - loss: 11.5067 - mae: 2.4367 - val_loss: 81.8133 - val_mae: 5.1702\n",
      "Epoch 79/100\n",
      "12/12 [==============================] - 0s 6ms/step - loss: 11.4287 - mae: 2.4336 - val_loss: 82.0118 - val_mae: 5.2179\n",
      "Epoch 80/100\n",
      "12/12 [==============================] - 0s 10ms/step - loss: 11.2715 - mae: 2.4226 - val_loss: 78.9510 - val_mae: 5.1057\n",
      "Epoch 81/100\n",
      "12/12 [==============================] - 0s 7ms/step - loss: 11.3724 - mae: 2.4248 - val_loss: 80.6311 - val_mae: 5.1595\n",
      "Epoch 82/100\n",
      "12/12 [==============================] - 0s 6ms/step - loss: 11.1337 - mae: 2.3994 - val_loss: 81.1078 - val_mae: 5.1870\n",
      "Epoch 83/100\n",
      "12/12 [==============================] - 0s 7ms/step - loss: 11.3035 - mae: 2.4448 - val_loss: 78.2587 - val_mae: 5.1984\n",
      "Epoch 84/100\n",
      "12/12 [==============================] - 0s 7ms/step - loss: 11.3294 - mae: 2.4654 - val_loss: 79.6634 - val_mae: 5.1779\n",
      "Epoch 85/100\n",
      "12/12 [==============================] - 0s 6ms/step - loss: 11.0712 - mae: 2.4097 - val_loss: 80.9806 - val_mae: 5.2327\n",
      "Epoch 86/100\n",
      "12/12 [==============================] - 0s 7ms/step - loss: 10.9708 - mae: 2.3914 - val_loss: 80.3421 - val_mae: 5.1489\n",
      "Epoch 87/100\n",
      "12/12 [==============================] - 0s 8ms/step - loss: 10.8948 - mae: 2.3840 - val_loss: 81.1845 - val_mae: 5.1869\n",
      "Epoch 88/100\n",
      "12/12 [==============================] - 0s 10ms/step - loss: 10.8940 - mae: 2.3725 - val_loss: 81.8789 - val_mae: 5.1645\n",
      "Epoch 89/100\n",
      "12/12 [==============================] - 0s 6ms/step - loss: 10.8461 - mae: 2.3644 - val_loss: 83.2060 - val_mae: 5.2114\n",
      "Epoch 90/100\n",
      "12/12 [==============================] - 0s 7ms/step - loss: 10.7269 - mae: 2.3604 - val_loss: 80.9313 - val_mae: 5.1777\n",
      "Epoch 91/100\n",
      "12/12 [==============================] - 0s 6ms/step - loss: 10.6373 - mae: 2.3536 - val_loss: 80.9227 - val_mae: 5.1671\n",
      "Epoch 92/100\n",
      "12/12 [==============================] - 0s 6ms/step - loss: 10.6691 - mae: 2.3530 - val_loss: 81.0721 - val_mae: 5.1539\n",
      "Epoch 93/100\n",
      "12/12 [==============================] - 0s 7ms/step - loss: 10.5786 - mae: 2.3450 - val_loss: 81.8980 - val_mae: 5.1812\n",
      "Epoch 94/100\n",
      "12/12 [==============================] - 0s 7ms/step - loss: 10.6128 - mae: 2.3674 - val_loss: 83.5222 - val_mae: 5.2347\n",
      "Epoch 95/100\n",
      "12/12 [==============================] - 0s 6ms/step - loss: 10.5703 - mae: 2.3407 - val_loss: 82.6285 - val_mae: 5.1438\n",
      "Epoch 96/100\n",
      "12/12 [==============================] - 0s 6ms/step - loss: 10.3789 - mae: 2.3112 - val_loss: 83.4090 - val_mae: 5.1663\n",
      "Epoch 97/100\n",
      "12/12 [==============================] - 0s 8ms/step - loss: 10.3753 - mae: 2.3209 - val_loss: 80.6056 - val_mae: 5.1131\n",
      "Epoch 98/100\n",
      "12/12 [==============================] - 0s 6ms/step - loss: 10.5316 - mae: 2.3479 - val_loss: 79.7110 - val_mae: 5.0923\n",
      "Epoch 99/100\n",
      "12/12 [==============================] - 0s 6ms/step - loss: 10.3703 - mae: 2.3215 - val_loss: 83.2071 - val_mae: 5.1909\n",
      "Epoch 100/100\n",
      "12/12 [==============================] - 0s 6ms/step - loss: 10.4506 - mae: 2.3359 - val_loss: 82.7731 - val_mae: 5.1964\n"
     ]
    },
    {
     "data": {
      "text/plain": [
       "<keras.callbacks.History at 0x2142c505cf0>"
      ]
     },
     "execution_count": 18,
     "metadata": {},
     "output_type": "execute_result"
    }
   ],
   "source": [
    "model.fit(x_train,y_train,epochs=100,validation_split=0.05)"
   ]
  },
  {
   "cell_type": "code",
   "execution_count": 19,
   "id": "e2afb08a",
   "metadata": {},
   "outputs": [
    {
     "name": "stdout",
     "output_type": "stream",
     "text": [
      "4/4 [==============================] - 0s 4ms/step - loss: 22.8942 - mae: 3.1534\n"
     ]
    }
   ],
   "source": [
    "output = model.evaluate(x_test,y_test)"
   ]
  },
  {
   "cell_type": "code",
   "execution_count": 20,
   "id": "b7bf34bd",
   "metadata": {},
   "outputs": [
    {
     "name": "stdout",
     "output_type": "stream",
     "text": [
      "Mean Squared Error: 22.894201278686523\n",
      "Mean Absolute Error: 3.153409242630005\n"
     ]
    }
   ],
   "source": [
    "print(f\"Mean Squared Error: {output[0]}\"\n",
    "      ,f\"Mean Absolute Error: {output[1]}\",sep=\"\\n\")"
   ]
  },
  {
   "cell_type": "code",
   "execution_count": 21,
   "id": "85333e40",
   "metadata": {},
   "outputs": [],
   "source": [
    "y_pred = model.predict(x=x_test)"
   ]
  },
  {
   "cell_type": "code",
   "execution_count": 22,
   "id": "4be4c127",
   "metadata": {},
   "outputs": [
    {
     "name": "stdout",
     "output_type": "stream",
     "text": [
      "(array([24.73937], dtype=float32), 28.4) (array([30.313932], dtype=float32), 31.1) (array([25.531977], dtype=float32), 23.5) (array([27.478996], dtype=float32), 26.6) (array([19.33402], dtype=float32), 19.6) (array([16.374985], dtype=float32), 14.3) (array([41.650955], dtype=float32), 50.0) (array([15.255454], dtype=float32), 14.3) (array([19.627325], dtype=float32), 20.7) (array([42.895836], dtype=float32), 37.6) (array([17.986902], dtype=float32), 20.4) (array([26.748516], dtype=float32), 27.5) (array([22.085024], dtype=float32), 36.2) (array([32.14971], dtype=float32), 32.0) (array([30.90208], dtype=float32), 33.1) (array([51.935543], dtype=float32), 48.8) (array([25.721382], dtype=float32), 24.6) (array([19.345592], dtype=float32), 26.4) (array([20.834879], dtype=float32), 23.2) (array([19.403633], dtype=float32), 17.0) (array([32.85833], dtype=float32), 41.3) (array([15.371583], dtype=float32), 14.9) (array([21.967022], dtype=float32), 18.5) (array([24.85171], dtype=float32), 25.0) (array([36.535606], dtype=float32), 36.4) (array([21.100937], dtype=float32), 19.5) (array([18.553137], dtype=float32), 27.1) (array([16.525068], dtype=float32), 14.9) (array([42.52662], dtype=float32), 46.0) (array([10.964636], dtype=float32), 17.9) (array([34.61154], dtype=float32), 30.3) (array([32.30835], dtype=float32), 31.6) (array([26.30053], dtype=float32), 23.1) (array([23.711046], dtype=float32), 24.7) (array([14.679699], dtype=float32), 16.7) (array([19.795275], dtype=float32), 18.3) (array([9.098324], dtype=float32), 8.4) (array([31.953974], dtype=float32), 37.3) (array([24.489538], dtype=float32), 22.1) (array([24.102676], dtype=float32), 22.0) (array([39.239716], dtype=float32), 46.7) (array([26.048544], dtype=float32), 30.1) (array([13.429057], dtype=float32), 12.1) (array([28.806328], dtype=float32), 29.1) (array([17.443573], dtype=float32), 16.6) (array([27.136984], dtype=float32), 23.9) (array([17.962244], dtype=float32), 19.9) (array([18.612413], dtype=float32), 21.4) (array([44.215824], dtype=float32), 45.4) (array([16.572104], dtype=float32), 15.6) (array([19.960394], dtype=float32), 22.7) (array([14.156935], dtype=float32), 12.5) (array([20.093546], dtype=float32), 24.3) (array([39.127296], dtype=float32), 43.8) (array([24.13571], dtype=float32), 22.0) (array([34.637703], dtype=float32), 33.8) (array([19.382444], dtype=float32), 19.3) (array([18.920012], dtype=float32), 22.6) (array([22.543179], dtype=float32), 16.1) (array([20.994572], dtype=float32), 15.0) (array([18.932602], dtype=float32), 19.6) (array([20.639883], dtype=float32), 21.2) (array([51.511604], dtype=float32), 50.0) (array([56.055737], dtype=float32), 50.0) (array([27.280554], dtype=float32), 29.4) (array([15.35194], dtype=float32), 17.8) (array([24.571836], dtype=float32), 22.8) (array([12.325792], dtype=float32), 8.8) (array([27.20637], dtype=float32), 32.5) (array([38.896206], dtype=float32), 42.8) (array([16.51016], dtype=float32), 12.6) (array([27.855698], dtype=float32), 28.6) (array([17.69322], dtype=float32), 19.1) (array([21.704224], dtype=float32), 50.0) (array([21.491838], dtype=float32), 27.5) (array([12.450009], dtype=float32), 23.7) (array([47.169994], dtype=float32), 50.0) (array([10.415634], dtype=float32), 7.2) (array([20.029226], dtype=float32), 18.7) (array([32.195538], dtype=float32), 37.0) (array([19.719034], dtype=float32), 22.9) (array([25.167322], dtype=float32), 22.9) (array([19.462196], dtype=float32), 17.1) (array([24.382175], dtype=float32), 22.0) (array([31.268618], dtype=float32), 23.6) (array([25.635035], dtype=float32), 23.9) (array([25.664404], dtype=float32), 27.1) (array([33.857666], dtype=float32), 29.0) (array([24.16926], dtype=float32), 22.2) (array([10.807757], dtype=float32), 7.0) (array([23.318907], dtype=float32), 20.7) (array([20.997662], dtype=float32), 18.5) (array([23.587126], dtype=float32), 21.6) (array([24.45281], dtype=float32), 23.0) (array([18.759115], dtype=float32), 16.0) (array([19.200968], dtype=float32), 15.0) (array([25.70674], dtype=float32), 23.9) (array([19.111002], dtype=float32), 24.4) (array([20.763512], dtype=float32), 22.6) (array([18.818033], dtype=float32), 19.8) (array([21.420246], dtype=float32), 22.2) (array([19.863008], dtype=float32), 18.6) (array([19.193945], dtype=float32), 19.7) (array([23.84], dtype=float32), 23.1) (array([13.771482], dtype=float32), 13.5) (array([20.763334], dtype=float32), 21.2) (array([18.714272], dtype=float32), 23.1) (array([15.378159], dtype=float32), 13.6) (array([28.488182], dtype=float32), 22.8) (array([23.989035], dtype=float32), 18.2) (array([11.35416], dtype=float32), 13.1) (array([17.787539], dtype=float32), 23.2) (array([24.932535], dtype=float32), 22.8) (array([24.65087], dtype=float32), 25.1) (array([21.60507], dtype=float32), 18.9) (array([13.156372], dtype=float32), 10.9) (array([14.711048], dtype=float32), 19.3) (array([20.551443], dtype=float32), 17.4) (array([17.957296], dtype=float32), 15.6) (array([20.02596], dtype=float32), 20.6) (array([29.51888], dtype=float32), 50.0) (array([35.11452], dtype=float32), 32.7) (array([20.992865], dtype=float32), 21.8) (array([15.918106], dtype=float32), 13.4) (array([17.624128], dtype=float32), 16.6) (array([23.189972], dtype=float32), 23.6) (array([12.335255], dtype=float32), 11.0)\n"
     ]
    }
   ],
   "source": [
    "print(*zip(y_pred,y_test))"
   ]
  },
  {
   "cell_type": "code",
   "execution_count": 25,
   "id": "fbaee296",
   "metadata": {},
   "outputs": [
    {
     "data": {
      "text/plain": [
       "[<matplotlib.lines.Line2D at 0x2142e980550>]"
      ]
     },
     "execution_count": 25,
     "metadata": {},
     "output_type": "execute_result"
    },
    {
     "data": {
      "image/png": "[encoded data removed]",
      "text/plain": [
       "<Figure size 432x288 with 1 Axes>"
      ]
     },
     "metadata": {
      "needs_background": "light"
     },
     "output_type": "display_data"
    }
   ],
   "source": [
    "y_pred = model.predict(x_test).flatten()\n",
    "a = plt.axes(aspect='equal')\n",
    "plt.scatter(y_test, y_pred)\n",
    "plt.xlabel('True values')\n",
    "plt.ylabel('Predicted values')\n",
    "plt.title('A plot that shows the true and predicted values')\n",
    "plt.xlim([0, 60])\n",
    "plt.ylim([0, 60])\n",
    "plt.plot([0, 60], [0, 60])"
   ]
  }
 ],
 "metadata": {
  "kernelspec": {
   "display_name": "Python 3 (ipykernel)",
   "language": "python",
   "name": "python3"
  },
  "language_info": {
   "codemirror_mode": {
    "name": "ipython",
    "version": 3
   },
   "file_extension": ".py",
   "mimetype": "text/x-python",
   "name": "python",
   "nbconvert_exporter": "python",
   "pygments_lexer": "ipython3",
   "version": "3.10.0"
  }
 },
 "nbformat": 4,
 "nbformat_minor": 5
}
